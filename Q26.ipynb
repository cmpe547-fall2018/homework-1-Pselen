{
 "cells": [
  {
   "cell_type": "markdown",
   "metadata": {},
   "source": [
    "# Q26: Entropies and Expectations"
   ]
  },
  {
   "cell_type": "code",
   "execution_count": 71,
   "metadata": {
    "collapsed": true
   },
   "outputs": [],
   "source": [
    "import numpy as np\n",
    "from numpy import inf\n",
    "import pandas as pd\n",
    "import matplotlib.pyplot as plt"
   ]
  },
  {
   "cell_type": "code",
   "execution_count": 38,
   "metadata": {},
   "outputs": [],
   "source": [
    "X = np.array([1, 2])\n",
    "Y = np.array([-1, 0, 5])\n",
    "joint_prob_x_y = np.array([[0.3, 0.3, 0.0], [0.1, 0.2, 0.1]])"
   ]
  },
  {
   "cell_type": "code",
   "execution_count": 39,
   "metadata": {
    "collapsed": true
   },
   "outputs": [],
   "source": [
    "prob_x = np.sum(joint_prob_x_y, axis = 1)\n",
    "prob_y = np.sum(joint_prob_x_y, axis = 0)"
   ]
  },
  {
   "cell_type": "code",
   "execution_count": 40,
   "metadata": {
    "collapsed": true
   },
   "outputs": [],
   "source": [
    "prob_x_given_y = joint_prob_x_y / prob_y\n",
    "prob_y_given_x = joint_prob_x_y / np.reshape(prob_x, (-1,1))"
   ]
  },
  {
   "cell_type": "code",
   "execution_count": 41,
   "metadata": {},
   "outputs": [
    {
     "name": "stdout",
     "output_type": "stream",
     "text": [
      "p(x,y):\n",
      "[[0.3 0.3 0. ]\n",
      " [0.1 0.2 0.1]]\n",
      "p(x): [0.6 0.4]\n",
      "p(y): [0.4 0.5 0.1]\n",
      "p(x|y):\n",
      "[[0.75 0.6  0.  ]\n",
      " [0.25 0.4  1.  ]]\n",
      "p(y|x):\n",
      "[[0.5  0.5  0.  ]\n",
      " [0.25 0.5  0.25]]\n"
     ]
    }
   ],
   "source": [
    "print(\"p(x,y):\")\n",
    "print(joint_prob_x_y)\n",
    "print(\"p(x):\", prob_x)\n",
    "print(\"p(y):\", prob_y)\n",
    "print(\"p(x|y):\")\n",
    "print(prob_x_given_y)\n",
    "print(\"p(y|x):\")\n",
    "print(prob_y_given_x)"
   ]
  },
  {
   "cell_type": "markdown",
   "metadata": {},
   "source": [
    "# 1. Expectations"
   ]
  },
  {
   "cell_type": "code",
   "execution_count": 62,
   "metadata": {},
   "outputs": [],
   "source": [
    "expected_x = (X * prob_x).sum()\n",
    "expected_y = (Y * prob_y).sum()\n",
    "expectec_y_given_x = (np.reshape(X, (-1, 1)) * prob_y_given_x).sum()\n",
    "expected_x_given_y = (Y * prob_x_given_y).sum()\n",
    "cov_x_y = 0.0\n",
    "for i in range(X.size):\n",
    "    for j in range(Y.size):\n",
    "        cov_x_y += (X[i]-expected_x)*(Y[j]-expected_y)*joint_prob_x_y[i,j]\n"
   ]
  },
  {
   "cell_type": "code",
   "execution_count": 63,
   "metadata": {},
   "outputs": [
    {
     "name": "stdout",
     "output_type": "stream",
     "text": [
      "<X>: 1.4\n",
      "<Y>: 0.09999999999999998\n",
      "p(y|x): 3.0\n",
      "p(x|y): 4.0\n",
      "Cov[x, y]: 0.36000000000000004\n"
     ]
    }
   ],
   "source": [
    "print(\"<X>:\", expected_x)\n",
    "print(\"<Y>:\", expected_y)\n",
    "print(\"p(y|x):\", expectec_y_given_x)\n",
    "print(\"p(x|y):\", expected_x_given_y)\n",
    "print(\"Cov[x, y]:\" , cov_x_y)"
   ]
  },
  {
   "cell_type": "markdown",
   "metadata": {},
   "source": [
    "# 2. Joint Entropy"
   ]
  },
  {
   "cell_type": "code",
   "execution_count": 72,
   "metadata": {},
   "outputs": [],
   "source": [
    "log_prob_x_y = (np.log(np.array(joint_prob_x_y) + 1e-50))\n",
    "log_prob_x_y[log_prob_x_y == -inf] = 0\n",
    "joint_entropy_x_y = - (log_prob_x_y * joint_prob_x_y).sum()"
   ]
  },
  {
   "cell_type": "code",
   "execution_count": 67,
   "metadata": {},
   "outputs": [
    {
     "name": "stdout",
     "output_type": "stream",
     "text": [
      "H[x,y]: 1.5047882836811908\n"
     ]
    }
   ],
   "source": [
    "print(\"H[x,y]:\", joint_entropy_x_y)"
   ]
  },
  {
   "cell_type": "markdown",
   "metadata": {},
   "source": [
    "# 3. Marginal Entropies"
   ]
  },
  {
   "cell_type": "code",
   "execution_count": 68,
   "metadata": {
    "collapsed": true
   },
   "outputs": [],
   "source": [
    "log_prob_x = (np.log(np.array(prob_x) + 1e-50))\n",
    "marginal_entropy_x = - (log_prob_x * prob_x).sum()\n",
    "\n",
    "log_prob_y = (np.log(np.array(prob_y) + 1e-50))\n",
    "marginal_entropy_y = - (log_prob_y * prob_y).sum()"
   ]
  },
  {
   "cell_type": "code",
   "execution_count": 69,
   "metadata": {},
   "outputs": [
    {
     "name": "stdout",
     "output_type": "stream",
     "text": [
      "H[x]:  0.6730116670092565\n",
      "H[y]:  0.9433483923290391\n"
     ]
    }
   ],
   "source": [
    "print(\"H[x]: \", marginal_entropy_x)\n",
    "print(\"H[y]: \", marginal_entropy_y)"
   ]
  },
  {
   "cell_type": "markdown",
   "metadata": {},
   "source": [
    "# 4. Conditional Entropies"
   ]
  },
  {
   "cell_type": "code",
   "execution_count": 73,
   "metadata": {
    "collapsed": true
   },
   "outputs": [],
   "source": [
    "log_prob_y_given_x = (np.log(np.array(prob_y_given_x) + 1e-50))\n",
    "log_prob_y_given_x[log_prob_y_given_x == -inf] = 0\n",
    "conditional_entropy_y_given_x = - (log_prob_y_given_x * joint_prob_x_y).sum()\n",
    "\n",
    "log_prob_x_given_y = (np.log(np.array(prob_x_given_y) + 1e-50))\n",
    "log_prob_x_given_y[log_prob_y_given_x == -inf] = 0\n",
    "conditional_entropy_x_given_y = - (log_prob_x_given_y * joint_prob_x_y).sum()\n"
   ]
  },
  {
   "cell_type": "code",
   "execution_count": 74,
   "metadata": {},
   "outputs": [
    {
     "name": "stdout",
     "output_type": "stream",
     "text": [
      "H[y|x]:  0.8317766166719344\n",
      "H[x|y]:  0.5614398913521517\n"
     ]
    }
   ],
   "source": [
    "print(\"H[y|x]: \", conditional_entropy_y_given_x)\n",
    "print(\"H[x|y]: \", conditional_entropy_x_given_y)"
   ]
  },
  {
   "cell_type": "markdown",
   "metadata": {},
   "source": [
    "# 5. Mutual Information"
   ]
  },
  {
   "cell_type": "code",
   "execution_count": 75,
   "metadata": {
    "collapsed": true
   },
   "outputs": [],
   "source": [
    "mutual_information = marginal_entropy_x - conditional_entropy_x_given_y"
   ]
  },
  {
   "cell_type": "code",
   "execution_count": 76,
   "metadata": {},
   "outputs": [
    {
     "name": "stdout",
     "output_type": "stream",
     "text": [
      "I(x,y):  0.11157177565710485\n"
     ]
    }
   ],
   "source": [
    "print(\"I(x,y): \", mutual_information)"
   ]
  },
  {
   "cell_type": "markdown",
   "metadata": {},
   "source": [
    "# 6. Test your program for the following joint probability table"
   ]
  },
  {
   "cell_type": "markdown",
   "metadata": {},
   "source": [
    "Table is used to test above, please see print statements."
   ]
  },
  {
   "cell_type": "markdown",
   "metadata": {},
   "source": [
    "# 7. Verify the picture"
   ]
  },
  {
   "attachments": {
    "verify.PNG": {
     "image/png": "[encoded data removed]"
    }
   },
   "cell_type": "markdown",
   "metadata": {},
   "source": [
    "![verify.PNG](attachment:verify.PNG)"
   ]
  },
  {
   "cell_type": "markdown",
   "metadata": {},
   "source": [
    "$ H[x] + H[y] \\geq H[x,y]$"
   ]
  },
  {
   "cell_type": "code",
   "execution_count": 88,
   "metadata": {},
   "outputs": [
    {
     "name": "stdout",
     "output_type": "stream",
     "text": [
      "H[x,y] = 1.50478828368119\n",
      "H[x] + H[y] = 1.61636005933830\n"
     ]
    }
   ],
   "source": [
    "print(\"H[x,y] = %.14f\" % joint_entropy_x_y)\n",
    "print(\"H[x] + H[y] = %.14f\" % (marginal_entropy_x + marginal_entropy_y))"
   ]
  },
  {
   "cell_type": "markdown",
   "metadata": {},
   "source": [
    "$I[x,y] = H[y] - H[y|x]$"
   ]
  },
  {
   "cell_type": "code",
   "execution_count": 89,
   "metadata": {},
   "outputs": [
    {
     "name": "stdout",
     "output_type": "stream",
     "text": [
      "H[y]-H[y|x] = 0.11157177565710\n",
      "H[x]-H[x|y] = 0.11157177565710\n",
      "I[x,y] =  0.11157177565710485\n"
     ]
    }
   ],
   "source": [
    "print(\"H[y]-H[y|x] = %.14f\" % (marginal_entropy_y - conditional_entropy_y_given_x))\n",
    "print(\"H[x]-H[x|y] = %.14f\" % (marginal_entropy_x - conditional_entropy_x_given_y))\n",
    "print(\"I[x,y] = \", mutual_information)"
   ]
  },
  {
   "cell_type": "markdown",
   "metadata": {},
   "source": [
    "$H[x,y] = H[y|x] + H[x]$"
   ]
  },
  {
   "cell_type": "code",
   "execution_count": 90,
   "metadata": {},
   "outputs": [
    {
     "name": "stdout",
     "output_type": "stream",
     "text": [
      "H[y|x] + H[x] = 1.50478828368119\n",
      "H[x|y] + H[y] = 1.50478828368119\n"
     ]
    }
   ],
   "source": [
    "print(\"H[y|x] + H[x] = %.14f\" % (conditional_entropy_y_given_x + marginal_entropy_x))\n",
    "print(\"H[x|y] + H[y] = %.14f\" % (conditional_entropy_x_given_y+ marginal_entropy_y))"
   ]
  }
 ],
 "metadata": {
  "kernelspec": {
   "display_name": "Python 3",
   "language": "python",
   "name": "python3"
  },
  "language_info": {
   "codemirror_mode": {
    "name": "ipython",
    "version": 3
   },
   "file_extension": ".py",
   "mimetype": "text/x-python",
   "name": "python",
   "nbconvert_exporter": "python",
   "pygments_lexer": "ipython3",
   "version": "3.6.1"
  }
 },
 "nbformat": 4,
 "nbformat_minor": 2
}
